{
 "cells": [
  {
   "cell_type": "markdown",
   "metadata": {},
   "source": [
    "# Preamble"
   ]
  },
  {
   "cell_type": "code",
   "execution_count": 1,
   "metadata": {},
   "outputs": [
    {
     "name": "stdout",
     "output_type": "stream",
     "text": [
      "Is GPU AVAILABLE? True\n",
      "Data Shape: (4998, 141)\n"
     ]
    },
    {
     "data": {
      "text/html": [
       "<div>\n",
       "<style scoped>\n",
       "    .dataframe tbody tr th:only-of-type {\n",
       "        vertical-align: middle;\n",
       "    }\n",
       "\n",
       "    .dataframe tbody tr th {\n",
       "        vertical-align: top;\n",
       "    }\n",
       "\n",
       "    .dataframe thead th {\n",
       "        text-align: right;\n",
       "    }\n",
       "</style>\n",
       "<table border=\"1\" class=\"dataframe\">\n",
       "  <thead>\n",
       "    <tr style=\"text-align: right;\">\n",
       "      <th></th>\n",
       "      <th>0</th>\n",
       "      <th>1</th>\n",
       "      <th>2</th>\n",
       "      <th>3</th>\n",
       "      <th>4</th>\n",
       "      <th>5</th>\n",
       "      <th>6</th>\n",
       "      <th>7</th>\n",
       "      <th>8</th>\n",
       "      <th>9</th>\n",
       "      <th>...</th>\n",
       "      <th>131</th>\n",
       "      <th>132</th>\n",
       "      <th>133</th>\n",
       "      <th>134</th>\n",
       "      <th>135</th>\n",
       "      <th>136</th>\n",
       "      <th>137</th>\n",
       "      <th>138</th>\n",
       "      <th>139</th>\n",
       "      <th>140</th>\n",
       "    </tr>\n",
       "  </thead>\n",
       "  <tbody>\n",
       "    <tr>\n",
       "      <th>0</th>\n",
       "      <td>-0.112522</td>\n",
       "      <td>-2.827204</td>\n",
       "      <td>-3.773897</td>\n",
       "      <td>-4.349751</td>\n",
       "      <td>-4.376041</td>\n",
       "      <td>-3.474986</td>\n",
       "      <td>-2.181408</td>\n",
       "      <td>-1.818287</td>\n",
       "      <td>-1.250522</td>\n",
       "      <td>-0.477492</td>\n",
       "      <td>...</td>\n",
       "      <td>0.792168</td>\n",
       "      <td>0.933541</td>\n",
       "      <td>0.796958</td>\n",
       "      <td>0.578621</td>\n",
       "      <td>0.257740</td>\n",
       "      <td>0.228077</td>\n",
       "      <td>0.123431</td>\n",
       "      <td>0.925286</td>\n",
       "      <td>0.193137</td>\n",
       "      <td>1.0</td>\n",
       "    </tr>\n",
       "    <tr>\n",
       "      <th>1</th>\n",
       "      <td>-1.100878</td>\n",
       "      <td>-3.996840</td>\n",
       "      <td>-4.285843</td>\n",
       "      <td>-4.506579</td>\n",
       "      <td>-4.022377</td>\n",
       "      <td>-3.234368</td>\n",
       "      <td>-1.566126</td>\n",
       "      <td>-0.992258</td>\n",
       "      <td>-0.754680</td>\n",
       "      <td>0.042321</td>\n",
       "      <td>...</td>\n",
       "      <td>0.538356</td>\n",
       "      <td>0.656881</td>\n",
       "      <td>0.787490</td>\n",
       "      <td>0.724046</td>\n",
       "      <td>0.555784</td>\n",
       "      <td>0.476333</td>\n",
       "      <td>0.773820</td>\n",
       "      <td>1.119621</td>\n",
       "      <td>-1.436250</td>\n",
       "      <td>1.0</td>\n",
       "    </tr>\n",
       "    <tr>\n",
       "      <th>2</th>\n",
       "      <td>-0.567088</td>\n",
       "      <td>-2.593450</td>\n",
       "      <td>-3.874230</td>\n",
       "      <td>-4.584095</td>\n",
       "      <td>-4.187449</td>\n",
       "      <td>-3.151462</td>\n",
       "      <td>-1.742940</td>\n",
       "      <td>-1.490658</td>\n",
       "      <td>-1.183580</td>\n",
       "      <td>-0.394229</td>\n",
       "      <td>...</td>\n",
       "      <td>0.886073</td>\n",
       "      <td>0.531452</td>\n",
       "      <td>0.311377</td>\n",
       "      <td>-0.021919</td>\n",
       "      <td>-0.713683</td>\n",
       "      <td>-0.532197</td>\n",
       "      <td>0.321097</td>\n",
       "      <td>0.904227</td>\n",
       "      <td>-0.421797</td>\n",
       "      <td>1.0</td>\n",
       "    </tr>\n",
       "    <tr>\n",
       "      <th>3</th>\n",
       "      <td>0.490473</td>\n",
       "      <td>-1.914407</td>\n",
       "      <td>-3.616364</td>\n",
       "      <td>-4.318823</td>\n",
       "      <td>-4.268016</td>\n",
       "      <td>-3.881110</td>\n",
       "      <td>-2.993280</td>\n",
       "      <td>-1.671131</td>\n",
       "      <td>-1.333884</td>\n",
       "      <td>-0.965629</td>\n",
       "      <td>...</td>\n",
       "      <td>0.350816</td>\n",
       "      <td>0.499111</td>\n",
       "      <td>0.600345</td>\n",
       "      <td>0.842069</td>\n",
       "      <td>0.952074</td>\n",
       "      <td>0.990133</td>\n",
       "      <td>1.086798</td>\n",
       "      <td>1.403011</td>\n",
       "      <td>-0.383564</td>\n",
       "      <td>1.0</td>\n",
       "    </tr>\n",
       "    <tr>\n",
       "      <th>4</th>\n",
       "      <td>0.800232</td>\n",
       "      <td>-0.874252</td>\n",
       "      <td>-2.384761</td>\n",
       "      <td>-3.973292</td>\n",
       "      <td>-4.338224</td>\n",
       "      <td>-3.802422</td>\n",
       "      <td>-2.534510</td>\n",
       "      <td>-1.783423</td>\n",
       "      <td>-1.594450</td>\n",
       "      <td>-0.753199</td>\n",
       "      <td>...</td>\n",
       "      <td>1.148884</td>\n",
       "      <td>0.958434</td>\n",
       "      <td>1.059025</td>\n",
       "      <td>1.371682</td>\n",
       "      <td>1.277392</td>\n",
       "      <td>0.960304</td>\n",
       "      <td>0.971020</td>\n",
       "      <td>1.614392</td>\n",
       "      <td>1.421456</td>\n",
       "      <td>1.0</td>\n",
       "    </tr>\n",
       "  </tbody>\n",
       "</table>\n",
       "<p>5 rows × 141 columns</p>\n",
       "</div>"
      ],
      "text/plain": [
       "        0         1         2         3         4         5         6    \\\n",
       "0 -0.112522 -2.827204 -3.773897 -4.349751 -4.376041 -3.474986 -2.181408   \n",
       "1 -1.100878 -3.996840 -4.285843 -4.506579 -4.022377 -3.234368 -1.566126   \n",
       "2 -0.567088 -2.593450 -3.874230 -4.584095 -4.187449 -3.151462 -1.742940   \n",
       "3  0.490473 -1.914407 -3.616364 -4.318823 -4.268016 -3.881110 -2.993280   \n",
       "4  0.800232 -0.874252 -2.384761 -3.973292 -4.338224 -3.802422 -2.534510   \n",
       "\n",
       "        7         8         9    ...       131       132       133       134  \\\n",
       "0 -1.818287 -1.250522 -0.477492  ...  0.792168  0.933541  0.796958  0.578621   \n",
       "1 -0.992258 -0.754680  0.042321  ...  0.538356  0.656881  0.787490  0.724046   \n",
       "2 -1.490658 -1.183580 -0.394229  ...  0.886073  0.531452  0.311377 -0.021919   \n",
       "3 -1.671131 -1.333884 -0.965629  ...  0.350816  0.499111  0.600345  0.842069   \n",
       "4 -1.783423 -1.594450 -0.753199  ...  1.148884  0.958434  1.059025  1.371682   \n",
       "\n",
       "        135       136       137       138       139  140  \n",
       "0  0.257740  0.228077  0.123431  0.925286  0.193137  1.0  \n",
       "1  0.555784  0.476333  0.773820  1.119621 -1.436250  1.0  \n",
       "2 -0.713683 -0.532197  0.321097  0.904227 -0.421797  1.0  \n",
       "3  0.952074  0.990133  1.086798  1.403011 -0.383564  1.0  \n",
       "4  1.277392  0.960304  0.971020  1.614392  1.421456  1.0  \n",
       "\n",
       "[5 rows x 141 columns]"
      ]
     },
     "metadata": {},
     "output_type": "display_data"
    }
   ],
   "source": [
    "from matplotlib import pyplot as plt\n",
    "from tensorflow import keras as ks\n",
    "from IPython.display import display\n",
    "from sklearn.model_selection import train_test_split\n",
    "from sklearn.preprocessing import MinMaxScaler\n",
    "from tensorflow.keras import Model, Sequential\n",
    "from tensorflow.keras.layers import Dense, Dropout\n",
    "from sklearn.metrics import accuracy_score\n",
    "from sklearn.metrics import confusion_matrix as cm\n",
    "from tensorflow.keras.regularizers import l1 , l2\n",
    "from sklearn.model_selection import GridSearchCV\n",
    "\n",
    "import seaborn as sns\n",
    "import numpy as np\n",
    "import tensorflow as tf\n",
    "import pandas as pd\n",
    "tf_random = 2\n",
    "epochs_ = 20\n",
    "tf.compat.v1.enable_eager_execution()\n",
    "print(\"Is GPU AVAILABLE?\" , tf.test.is_gpu_available())\n",
    "df = pd.read_csv('ecg.csv',header=None)\n",
    "print('Data Shape:',df.shape)\n",
    "display(df.head())"
   ]
  },
  {
   "cell_type": "code",
   "execution_count": 2,
   "metadata": {},
   "outputs": [
    {
     "data": {
      "text/html": [
       "<div>\n",
       "<style scoped>\n",
       "    .dataframe tbody tr th:only-of-type {\n",
       "        vertical-align: middle;\n",
       "    }\n",
       "\n",
       "    .dataframe tbody tr th {\n",
       "        vertical-align: top;\n",
       "    }\n",
       "\n",
       "    .dataframe thead th {\n",
       "        text-align: right;\n",
       "    }\n",
       "</style>\n",
       "<table border=\"1\" class=\"dataframe\">\n",
       "  <thead>\n",
       "    <tr style=\"text-align: right;\">\n",
       "      <th></th>\n",
       "      <th>0</th>\n",
       "      <th>1</th>\n",
       "      <th>2</th>\n",
       "      <th>3</th>\n",
       "      <th>4</th>\n",
       "      <th>5</th>\n",
       "      <th>6</th>\n",
       "      <th>7</th>\n",
       "      <th>8</th>\n",
       "      <th>9</th>\n",
       "      <th>...</th>\n",
       "      <th>131</th>\n",
       "      <th>132</th>\n",
       "      <th>133</th>\n",
       "      <th>134</th>\n",
       "      <th>135</th>\n",
       "      <th>136</th>\n",
       "      <th>137</th>\n",
       "      <th>138</th>\n",
       "      <th>139</th>\n",
       "      <th>140</th>\n",
       "    </tr>\n",
       "  </thead>\n",
       "  <tbody>\n",
       "    <tr>\n",
       "      <th>count</th>\n",
       "      <td>4998.000000</td>\n",
       "      <td>4998.000000</td>\n",
       "      <td>4998.000000</td>\n",
       "      <td>4998.000000</td>\n",
       "      <td>4998.000000</td>\n",
       "      <td>4998.000000</td>\n",
       "      <td>4998.000000</td>\n",
       "      <td>4998.000000</td>\n",
       "      <td>4998.000000</td>\n",
       "      <td>4998.000000</td>\n",
       "      <td>...</td>\n",
       "      <td>4998.000000</td>\n",
       "      <td>4998.000000</td>\n",
       "      <td>4998.000000</td>\n",
       "      <td>4998.000000</td>\n",
       "      <td>4998.000000</td>\n",
       "      <td>4998.000000</td>\n",
       "      <td>4998.000000</td>\n",
       "      <td>4998.000000</td>\n",
       "      <td>4998.000000</td>\n",
       "      <td>4998.000000</td>\n",
       "    </tr>\n",
       "    <tr>\n",
       "      <th>mean</th>\n",
       "      <td>-0.262502</td>\n",
       "      <td>-1.649828</td>\n",
       "      <td>-2.492623</td>\n",
       "      <td>-3.119754</td>\n",
       "      <td>-3.167656</td>\n",
       "      <td>-2.866306</td>\n",
       "      <td>-2.272845</td>\n",
       "      <td>-1.797754</td>\n",
       "      <td>-1.409784</td>\n",
       "      <td>-0.935806</td>\n",
       "      <td>...</td>\n",
       "      <td>0.071312</td>\n",
       "      <td>-0.062622</td>\n",
       "      <td>-0.276086</td>\n",
       "      <td>-0.507750</td>\n",
       "      <td>-0.761323</td>\n",
       "      <td>-0.835173</td>\n",
       "      <td>-0.642739</td>\n",
       "      <td>-0.487667</td>\n",
       "      <td>-0.706574</td>\n",
       "      <td>0.584034</td>\n",
       "    </tr>\n",
       "    <tr>\n",
       "      <th>std</th>\n",
       "      <td>1.152450</td>\n",
       "      <td>1.445542</td>\n",
       "      <td>1.386457</td>\n",
       "      <td>1.302921</td>\n",
       "      <td>1.104535</td>\n",
       "      <td>0.906312</td>\n",
       "      <td>0.731594</td>\n",
       "      <td>0.622794</td>\n",
       "      <td>0.636863</td>\n",
       "      <td>0.657788</td>\n",
       "      <td>...</td>\n",
       "      <td>1.404425</td>\n",
       "      <td>1.646105</td>\n",
       "      <td>1.894515</td>\n",
       "      <td>2.059366</td>\n",
       "      <td>2.086130</td>\n",
       "      <td>2.056296</td>\n",
       "      <td>1.859409</td>\n",
       "      <td>1.831088</td>\n",
       "      <td>1.414414</td>\n",
       "      <td>0.492937</td>\n",
       "    </tr>\n",
       "    <tr>\n",
       "      <th>min</th>\n",
       "      <td>-6.729499</td>\n",
       "      <td>-7.090374</td>\n",
       "      <td>-5.132459</td>\n",
       "      <td>-5.363241</td>\n",
       "      <td>-5.375715</td>\n",
       "      <td>-5.330194</td>\n",
       "      <td>-4.782240</td>\n",
       "      <td>-4.311288</td>\n",
       "      <td>-4.071361</td>\n",
       "      <td>-4.142476</td>\n",
       "      <td>...</td>\n",
       "      <td>-4.167040</td>\n",
       "      <td>-4.557576</td>\n",
       "      <td>-4.530488</td>\n",
       "      <td>-4.563270</td>\n",
       "      <td>-5.150100</td>\n",
       "      <td>-4.880460</td>\n",
       "      <td>-5.496107</td>\n",
       "      <td>-5.880890</td>\n",
       "      <td>-6.092227</td>\n",
       "      <td>0.000000</td>\n",
       "    </tr>\n",
       "    <tr>\n",
       "      <th>25%</th>\n",
       "      <td>-1.004220</td>\n",
       "      <td>-2.701936</td>\n",
       "      <td>-3.668585</td>\n",
       "      <td>-4.227337</td>\n",
       "      <td>-4.007630</td>\n",
       "      <td>-3.480666</td>\n",
       "      <td>-2.779832</td>\n",
       "      <td>-2.165808</td>\n",
       "      <td>-1.773870</td>\n",
       "      <td>-1.362003</td>\n",
       "      <td>...</td>\n",
       "      <td>-1.087720</td>\n",
       "      <td>-1.588237</td>\n",
       "      <td>-2.146835</td>\n",
       "      <td>-2.730750</td>\n",
       "      <td>-3.031224</td>\n",
       "      <td>-2.868603</td>\n",
       "      <td>-2.154560</td>\n",
       "      <td>-1.658289</td>\n",
       "      <td>-1.596809</td>\n",
       "      <td>0.000000</td>\n",
       "    </tr>\n",
       "    <tr>\n",
       "      <th>50%</th>\n",
       "      <td>-0.297541</td>\n",
       "      <td>-1.661892</td>\n",
       "      <td>-2.586129</td>\n",
       "      <td>-3.388210</td>\n",
       "      <td>-3.469899</td>\n",
       "      <td>-2.947061</td>\n",
       "      <td>-2.285427</td>\n",
       "      <td>-1.750084</td>\n",
       "      <td>-1.422457</td>\n",
       "      <td>-0.910384</td>\n",
       "      <td>...</td>\n",
       "      <td>0.658318</td>\n",
       "      <td>0.717808</td>\n",
       "      <td>0.604747</td>\n",
       "      <td>0.334857</td>\n",
       "      <td>-0.030767</td>\n",
       "      <td>-0.195151</td>\n",
       "      <td>-0.194423</td>\n",
       "      <td>-0.160262</td>\n",
       "      <td>-0.568443</td>\n",
       "      <td>1.000000</td>\n",
       "    </tr>\n",
       "    <tr>\n",
       "      <th>75%</th>\n",
       "      <td>0.499909</td>\n",
       "      <td>-0.677998</td>\n",
       "      <td>-1.514187</td>\n",
       "      <td>-2.235690</td>\n",
       "      <td>-2.531153</td>\n",
       "      <td>-2.398797</td>\n",
       "      <td>-1.823480</td>\n",
       "      <td>-1.484107</td>\n",
       "      <td>-1.063592</td>\n",
       "      <td>-0.476477</td>\n",
       "      <td>...</td>\n",
       "      <td>1.169392</td>\n",
       "      <td>1.238651</td>\n",
       "      <td>1.264379</td>\n",
       "      <td>1.234408</td>\n",
       "      <td>1.033957</td>\n",
       "      <td>0.945027</td>\n",
       "      <td>0.951621</td>\n",
       "      <td>1.002628</td>\n",
       "      <td>0.271635</td>\n",
       "      <td>1.000000</td>\n",
       "    </tr>\n",
       "    <tr>\n",
       "      <th>max</th>\n",
       "      <td>4.966414</td>\n",
       "      <td>3.479689</td>\n",
       "      <td>2.660597</td>\n",
       "      <td>1.899798</td>\n",
       "      <td>2.147015</td>\n",
       "      <td>1.614375</td>\n",
       "      <td>1.868728</td>\n",
       "      <td>1.804251</td>\n",
       "      <td>1.683730</td>\n",
       "      <td>1.898627</td>\n",
       "      <td>...</td>\n",
       "      <td>3.007606</td>\n",
       "      <td>2.854680</td>\n",
       "      <td>2.912394</td>\n",
       "      <td>2.937685</td>\n",
       "      <td>3.351437</td>\n",
       "      <td>3.432518</td>\n",
       "      <td>3.579448</td>\n",
       "      <td>4.425976</td>\n",
       "      <td>7.402103</td>\n",
       "      <td>1.000000</td>\n",
       "    </tr>\n",
       "  </tbody>\n",
       "</table>\n",
       "<p>8 rows × 141 columns</p>\n",
       "</div>"
      ],
      "text/plain": [
       "               0            1            2            3            4    \\\n",
       "count  4998.000000  4998.000000  4998.000000  4998.000000  4998.000000   \n",
       "mean     -0.262502    -1.649828    -2.492623    -3.119754    -3.167656   \n",
       "std       1.152450     1.445542     1.386457     1.302921     1.104535   \n",
       "min      -6.729499    -7.090374    -5.132459    -5.363241    -5.375715   \n",
       "25%      -1.004220    -2.701936    -3.668585    -4.227337    -4.007630   \n",
       "50%      -0.297541    -1.661892    -2.586129    -3.388210    -3.469899   \n",
       "75%       0.499909    -0.677998    -1.514187    -2.235690    -2.531153   \n",
       "max       4.966414     3.479689     2.660597     1.899798     2.147015   \n",
       "\n",
       "               5            6            7            8            9    ...  \\\n",
       "count  4998.000000  4998.000000  4998.000000  4998.000000  4998.000000  ...   \n",
       "mean     -2.866306    -2.272845    -1.797754    -1.409784    -0.935806  ...   \n",
       "std       0.906312     0.731594     0.622794     0.636863     0.657788  ...   \n",
       "min      -5.330194    -4.782240    -4.311288    -4.071361    -4.142476  ...   \n",
       "25%      -3.480666    -2.779832    -2.165808    -1.773870    -1.362003  ...   \n",
       "50%      -2.947061    -2.285427    -1.750084    -1.422457    -0.910384  ...   \n",
       "75%      -2.398797    -1.823480    -1.484107    -1.063592    -0.476477  ...   \n",
       "max       1.614375     1.868728     1.804251     1.683730     1.898627  ...   \n",
       "\n",
       "               131          132          133          134          135  \\\n",
       "count  4998.000000  4998.000000  4998.000000  4998.000000  4998.000000   \n",
       "mean      0.071312    -0.062622    -0.276086    -0.507750    -0.761323   \n",
       "std       1.404425     1.646105     1.894515     2.059366     2.086130   \n",
       "min      -4.167040    -4.557576    -4.530488    -4.563270    -5.150100   \n",
       "25%      -1.087720    -1.588237    -2.146835    -2.730750    -3.031224   \n",
       "50%       0.658318     0.717808     0.604747     0.334857    -0.030767   \n",
       "75%       1.169392     1.238651     1.264379     1.234408     1.033957   \n",
       "max       3.007606     2.854680     2.912394     2.937685     3.351437   \n",
       "\n",
       "               136          137          138          139          140  \n",
       "count  4998.000000  4998.000000  4998.000000  4998.000000  4998.000000  \n",
       "mean     -0.835173    -0.642739    -0.487667    -0.706574     0.584034  \n",
       "std       2.056296     1.859409     1.831088     1.414414     0.492937  \n",
       "min      -4.880460    -5.496107    -5.880890    -6.092227     0.000000  \n",
       "25%      -2.868603    -2.154560    -1.658289    -1.596809     0.000000  \n",
       "50%      -0.195151    -0.194423    -0.160262    -0.568443     1.000000  \n",
       "75%       0.945027     0.951621     1.002628     0.271635     1.000000  \n",
       "max       3.432518     3.579448     4.425976     7.402103     1.000000  \n",
       "\n",
       "[8 rows x 141 columns]"
      ]
     },
     "execution_count": 2,
     "metadata": {},
     "output_type": "execute_result"
    }
   ],
   "source": [
    "df.describe()"
   ]
  },
  {
   "cell_type": "markdown",
   "metadata": {},
   "source": [
    "# Helper Functions"
   ]
  },
  {
   "cell_type": "code",
   "execution_count": 3,
   "metadata": {},
   "outputs": [],
   "source": [
    "class ShallowAutoEncoder(Model):\n",
    "  def __init__(self, output_units, code_size=10):\n",
    "    super().__init__()\n",
    "    self.encoder = Sequential([\n",
    "      Dense(output_units, activation='relu'),\n",
    "      Dense(code_size, activation='relu')\n",
    "    ])\n",
    "    self.decoder = Sequential([\n",
    "      Dense(output_units, activation='sigmoid')\n",
    "    ])\n",
    "  \n",
    "  def call(self, inputs):\n",
    "    encoded = self.encoder(inputs)\n",
    "    decoded = self.decoder(encoded)\n",
    "    return decoded\n",
    "\n",
    "class LassoRegAutoEncoder(Model):\n",
    "\n",
    "  def __init__(self, output_units, code_size=10):\n",
    "    super().__init__()\n",
    "    self.encoder = Sequential([\n",
    "      Dense(output_units, activation='relu' ),\n",
    "      Dense(code_size, activation='relu', activity_regularizer=l2(10e-6))\n",
    "    ])\n",
    "    self.decoder = Sequential([\n",
    "      Dense(output_units, activation='sigmoid')\n",
    "    ])\n",
    "  \n",
    "  def call(self, inputs):\n",
    "    encoded = self.encoder(inputs)\n",
    "    decoded = self.decoder(encoded)\n",
    "    return decoded\n",
    "  \n",
    "class UnderCompleteAutoEncoder(Model):\n",
    "  def __init__(self, output_units, code_size=10):\n",
    "    super().__init__()\n",
    "    self.encoder = Sequential([\n",
    "      Dense(output_units, activation='relu'),\n",
    "      Dense(round(output_units/2), activation='relu'), \n",
    "      Dense(round(output_units/4), activation='relu'),\n",
    "      Dense(code_size, activation='relu')\n",
    "    ])\n",
    "    self.decoder = Sequential([\n",
    "      Dense(round(output_units/2), activation='relu'),\n",
    "      Dense(round(output_units/4), activation='relu'), \n",
    "      Dense(output_units, activation='sigmoid')\n",
    "    ])\n",
    "  \n",
    "  def call(self, inputs):\n",
    "    encoded = self.encoder(inputs)\n",
    "    decoded = self.decoder(encoded)\n",
    "    return decoded\n",
    "\n",
    "\n",
    "class DropoutAutoEncoder(Model):\n",
    "  def __init__(self, output_units, code_size=10):\n",
    "    super().__init__()\n",
    "    self.encoder = Sequential([\n",
    "      Dense(output_units, activation='relu'),\n",
    "      Dropout(0.2),\n",
    "      Dense(round(output_units/2), activation='relu'),\n",
    "      Dropout(0.2), \n",
    "      Dense(round(output_units/4), activation='relu'),\n",
    "      Dropout(0.2),\n",
    "      Dense(code_size, activation='relu')\n",
    "    ])\n",
    "    self.decoder = Sequential([\n",
    "      Dense(round(output_units/4), activation='relu'),\n",
    "      Dropout(0.2),\n",
    "      Dense(round(output_units/2), activation='relu'),\n",
    "      Dropout(0.2), \n",
    "      Dense(output_units, activation='sigmoid')\n",
    "    ])\n",
    "  \n",
    "  def call(self, inputs):\n",
    "    encoded = self.encoder(inputs)\n",
    "    decoded = self.decoder(encoded)\n",
    "    return decoded\n",
    "\n",
    "\n",
    "def find_threshold(model, x_train_scaled):\n",
    "  reconstructions = model.predict(x_train_scaled)\n",
    "  # provides losses of individual instances\n",
    "  reconstruction_errors = tf.keras.losses.mse(reconstructions, x_train_scaled)\n",
    "  # threshold for anomaly scores\n",
    "  threshold = np.mean(reconstruction_errors.numpy()) \\\n",
    "      + np.std(reconstruction_errors.numpy())\n",
    "  return threshold\n",
    "\n",
    "def get_predictions(model, x_test_scaled, threshold):\n",
    "  predictions = model.predict(x_test_scaled)\n",
    "  # provides losses of individual instances\n",
    "  errors = tf.keras.losses.msle(predictions, x_test_scaled)\n",
    "  # 0 = anomaly, 1 = normal\n",
    "  anomaly_mask = pd.Series(errors) > threshold\n",
    "  preds = anomaly_mask.map(lambda x: 0.0 if x == True else 1.0)\n",
    "  return preds"
   ]
  },
  {
   "cell_type": "markdown",
   "metadata": {},
   "source": [
    "# Data Preparation"
   ]
  },
  {
   "cell_type": "code",
   "execution_count": 4,
   "metadata": {},
   "outputs": [],
   "source": [
    "# Split features and target variable\n",
    "X = df.drop(140,axis=1)\n",
    "y =  df[140]\n",
    "\n",
    "# train-test split\n",
    "x_train, x_test, y_train, y_test = train_test_split(\n",
    "    X, y, test_size=0.2, random_state=69\n",
    ")\n",
    "\n",
    "# for novelty-detection we can only use the positive/normal class\n",
    "train_indices = y_train[y_train == 1].index\n",
    "train_data = x_train.loc[train_indices]\n",
    "\n",
    "# scale the data according to positive/normal class\n",
    "scaler = MinMaxScaler(feature_range=(0, 1))\n",
    "x_train_scaled = scaler.fit_transform(train_data.copy())\n",
    "x_test_scaled = scaler.transform(x_test.copy())"
   ]
  },
  {
   "cell_type": "markdown",
   "metadata": {},
   "source": [
    "# Base Model - Shallow Autoencoder"
   ]
  },
  {
   "cell_type": "code",
   "execution_count": 5,
   "metadata": {
    "tags": []
   },
   "outputs": [
    {
     "name": "stdout",
     "output_type": "stream",
     "text": [
      "Train on 2325 samples, validate on 1000 samples\n",
      "Epoch 1/20\n",
      "2325/2325 [==============================] - 7s 3ms/sample - loss: 0.0180 - acc: 0.0082 - mean_squared_error: 0.0180 - val_loss: 0.0226 - val_acc: 0.0500 - val_mean_squared_error: 0.0226\n",
      "Epoch 2/20\n",
      "2325/2325 [==============================] - 1s 540us/sample - loss: 0.0094 - acc: 0.1548 - mean_squared_error: 0.0094 - val_loss: 0.0197 - val_acc: 0.0810 - val_mean_squared_error: 0.0197\n",
      "Epoch 3/20\n",
      "2325/2325 [==============================] - 1s 606us/sample - loss: 0.0070 - acc: 0.1355 - mean_squared_error: 0.0070 - val_loss: 0.0170 - val_acc: 0.1020 - val_mean_squared_error: 0.0170\n",
      "Epoch 4/20\n",
      "2325/2325 [==============================] - 1s 514us/sample - loss: 0.0049 - acc: 0.1785 - mean_squared_error: 0.0049 - val_loss: 0.0150 - val_acc: 0.1640 - val_mean_squared_error: 0.0150\n",
      "Epoch 5/20\n",
      "2325/2325 [==============================] - 1s 509us/sample - loss: 0.0040 - acc: 0.2013 - mean_squared_error: 0.0040 - val_loss: 0.0141 - val_acc: 0.1740 - val_mean_squared_error: 0.0141\n",
      "Epoch 6/20\n",
      "2325/2325 [==============================] - 1s 588us/sample - loss: 0.0037 - acc: 0.2069 - mean_squared_error: 0.0037 - val_loss: 0.0136 - val_acc: 0.1810 - val_mean_squared_error: 0.0136\n",
      "Epoch 7/20\n",
      "2325/2325 [==============================] - 1s 521us/sample - loss: 0.0035 - acc: 0.2047 - mean_squared_error: 0.0035 - val_loss: 0.0133 - val_acc: 0.1780 - val_mean_squared_error: 0.0133\n",
      "Epoch 8/20\n",
      "2325/2325 [==============================] - 1s 447us/sample - loss: 0.0034 - acc: 0.2095 - mean_squared_error: 0.0034 - val_loss: 0.0127 - val_acc: 0.1610 - val_mean_squared_error: 0.0127\n",
      "Epoch 9/20\n",
      "2325/2325 [==============================] - 1s 631us/sample - loss: 0.0033 - acc: 0.2142 - mean_squared_error: 0.0033 - val_loss: 0.0128 - val_acc: 0.1570 - val_mean_squared_error: 0.0128\n",
      "Epoch 10/20\n",
      "2325/2325 [==============================] - 1s 482us/sample - loss: 0.0032 - acc: 0.2189 - mean_squared_error: 0.0032 - val_loss: 0.0123 - val_acc: 0.1540 - val_mean_squared_error: 0.0123\n",
      "Epoch 11/20\n",
      "2325/2325 [==============================] - 1s 468us/sample - loss: 0.0031 - acc: 0.2202 - mean_squared_error: 0.0031 - val_loss: 0.0118 - val_acc: 0.1530 - val_mean_squared_error: 0.0118\n",
      "Epoch 12/20\n",
      "2325/2325 [==============================] - 1s 475us/sample - loss: 0.0030 - acc: 0.2258 - mean_squared_error: 0.0030 - val_loss: 0.0115 - val_acc: 0.1590 - val_mean_squared_error: 0.0115\n",
      "Epoch 13/20\n",
      "2325/2325 [==============================] - 5s 2ms/sample - loss: 0.0029 - acc: 0.2357 - mean_squared_error: 0.0029 - val_loss: 0.0113 - val_acc: 0.1540 - val_mean_squared_error: 0.0113\n",
      "Epoch 14/20\n",
      "2325/2325 [==============================] - 1s 602us/sample - loss: 0.0029 - acc: 0.2383 - mean_squared_error: 0.0029 - val_loss: 0.0113 - val_acc: 0.1570 - val_mean_squared_error: 0.0113\n",
      "Epoch 15/20\n",
      "2325/2325 [==============================] - 1s 542us/sample - loss: 0.0028 - acc: 0.2460 - mean_squared_error: 0.0028 - val_loss: 0.0110 - val_acc: 0.1670 - val_mean_squared_error: 0.0110\n",
      "Epoch 16/20\n",
      "2325/2325 [==============================] - 1s 587us/sample - loss: 0.0027 - acc: 0.2477 - mean_squared_error: 0.0027 - val_loss: 0.0108 - val_acc: 0.1770 - val_mean_squared_error: 0.0108\n",
      "Epoch 17/20\n",
      "2325/2325 [==============================] - 4s 2ms/sample - loss: 0.0027 - acc: 0.2649 - mean_squared_error: 0.0027 - val_loss: 0.0107 - val_acc: 0.1750 - val_mean_squared_error: 0.0107\n",
      "Epoch 18/20\n",
      "2325/2325 [==============================] - 2s 791us/sample - loss: 0.0026 - acc: 0.2804 - mean_squared_error: 0.0026 - val_loss: 0.0104 - val_acc: 0.1910 - val_mean_squared_error: 0.0104\n",
      "Epoch 19/20\n",
      "2325/2325 [==============================] - 1s 503us/sample - loss: 0.0026 - acc: 0.2860 - mean_squared_error: 0.0026 - val_loss: 0.0103 - val_acc: 0.1870 - val_mean_squared_error: 0.0103\n",
      "Epoch 20/20\n",
      "2325/2325 [==============================] - 1s 598us/sample - loss: 0.0025 - acc: 0.2951 - mean_squared_error: 0.0025 - val_loss: 0.0101 - val_acc: 0.2110 - val_mean_squared_error: 0.0101\n"
     ]
    }
   ],
   "source": [
    "tf.set_random_seed(tf_random)\n",
    "model = ShallowAutoEncoder(output_units=x_train_scaled.shape[1])\n",
    "# configurations of model\n",
    "model.compile(loss='mse', metrics=['accuracy','mse'], optimizer='adam')\n",
    "\n",
    "history = model.fit(\n",
    "    x_train_scaled,\n",
    "    x_train_scaled,\n",
    "    epochs=epochs_,\n",
    "    validation_data=(x_test_scaled, x_test_scaled)\n",
    ")"
   ]
  },
  {
   "cell_type": "code",
   "execution_count": 6,
   "metadata": {},
   "outputs": [
    {
     "data": {
      "image/png": "[encoded data removed]",
      "text/plain": [
       "<Figure size 432x288 with 1 Axes>"
      ]
     },
     "metadata": {
      "needs_background": "light"
     },
     "output_type": "display_data"
    }
   ],
   "source": [
    "plt.plot(history.history['loss'])\n",
    "plt.plot(history.history['val_loss'])\n",
    "plt.title('Shallow Autoencoder Baseline Training Progression')\n",
    "plt.xlabel('Epochs')\n",
    "plt.ylabel('MSE Loss')\n",
    "plt.legend(['loss', 'val_loss'])\n",
    "plt.show()"
   ]
  },
  {
   "cell_type": "code",
   "execution_count": 7,
   "metadata": {},
   "outputs": [
    {
     "name": "stdout",
     "output_type": "stream",
     "text": [
      "Threshold: 0.006032027807025955\n"
     ]
    },
    {
     "data": {
      "text/plain": [
       "0.941"
      ]
     },
     "execution_count": 7,
     "metadata": {},
     "output_type": "execute_result"
    }
   ],
   "source": [
    "threshold = find_threshold(model, x_train_scaled)\n",
    "print(f\"Threshold: {threshold}\")\n",
    "predictions = get_predictions(model, x_test_scaled, threshold)\n",
    "accuracy_score(predictions, y_test)"
   ]
  },
  {
   "cell_type": "code",
   "execution_count": 8,
   "metadata": {},
   "outputs": [
    {
     "data": {
      "text/plain": [
       "Text(0.5, 1.0, 'Shallow Autoencoder Confusion Matrix')"
      ]
     },
     "execution_count": 8,
     "metadata": {},
     "output_type": "execute_result"
    },
    {
     "data": {
      "image/png": "[encoded data removed]",
      "text/plain": [
       "<Figure size 432x288 with 2 Axes>"
      ]
     },
     "metadata": {
      "needs_background": "light"
     },
     "output_type": "display_data"
    }
   ],
   "source": [
    "sns.heatmap(\n",
    "    cm(predictions , y_test),\n",
    "    annot=True\n",
    ")\n",
    "plt.title('Shallow Autoencoder Confusion Matrix')"
   ]
  },
  {
   "cell_type": "markdown",
   "metadata": {},
   "source": [
    "# Lasso Regularisation"
   ]
  },
  {
   "cell_type": "code",
   "execution_count": 9,
   "metadata": {},
   "outputs": [
    {
     "name": "stdout",
     "output_type": "stream",
     "text": [
      "Train on 2325 samples, validate on 1000 samples\n",
      "Epoch 1/20\n",
      "2325/2325 [==============================] - 4s 2ms/sample - loss: 0.0180 - acc: 0.0069 - mean_squared_error: 0.0180 - val_loss: 0.0232 - val_acc: 0.0490 - val_mean_squared_error: 0.0231\n",
      "Epoch 2/20\n",
      "2325/2325 [==============================] - 2s 857us/sample - loss: 0.0092 - acc: 0.1527 - mean_squared_error: 0.0091 - val_loss: 0.0192 - val_acc: 0.0940 - val_mean_squared_error: 0.0190\n",
      "Epoch 3/20\n",
      "2325/2325 [==============================] - 2s 867us/sample - loss: 0.0068 - acc: 0.1604 - mean_squared_error: 0.0066 - val_loss: 0.0178 - val_acc: 0.1320 - val_mean_squared_error: 0.0177\n",
      "Epoch 4/20\n",
      "2325/2325 [==============================] - 2s 794us/sample - loss: 0.0056 - acc: 0.1751 - mean_squared_error: 0.0054 - val_loss: 0.0170 - val_acc: 0.1110 - val_mean_squared_error: 0.0168\n",
      "Epoch 5/20\n",
      "2325/2325 [==============================] - 2s 739us/sample - loss: 0.0050 - acc: 0.1772 - mean_squared_error: 0.0047 - val_loss: 0.0165 - val_acc: 0.1120 - val_mean_squared_error: 0.0163\n",
      "Epoch 6/20\n",
      "2325/2325 [==============================] - 1s 600us/sample - loss: 0.0047 - acc: 0.1845 - mean_squared_error: 0.0044 - val_loss: 0.0162 - val_acc: 0.1010 - val_mean_squared_error: 0.0160\n",
      "Epoch 7/20\n",
      "2325/2325 [==============================] - 1s 542us/sample - loss: 0.0045 - acc: 0.1888 - mean_squared_error: 0.0042 - val_loss: 0.0160 - val_acc: 0.1020 - val_mean_squared_error: 0.0157\n",
      "Epoch 8/20\n",
      "2325/2325 [==============================] - 2s 773us/sample - loss: 0.0043 - acc: 0.2000 - mean_squared_error: 0.0040 - val_loss: 0.0156 - val_acc: 0.1140 - val_mean_squared_error: 0.0154\n",
      "Epoch 9/20\n",
      "2325/2325 [==============================] - 2s 779us/sample - loss: 0.0042 - acc: 0.2034 - mean_squared_error: 0.0039 - val_loss: 0.0151 - val_acc: 0.1160 - val_mean_squared_error: 0.0150\n",
      "Epoch 10/20\n",
      "2325/2325 [==============================] - 2s 838us/sample - loss: 0.0040 - acc: 0.2039 - mean_squared_error: 0.0038 - val_loss: 0.0149 - val_acc: 0.1280 - val_mean_squared_error: 0.0147\n",
      "Epoch 11/20\n",
      "2325/2325 [==============================] - 2s 936us/sample - loss: 0.0039 - acc: 0.2095 - mean_squared_error: 0.0036 - val_loss: 0.0147 - val_acc: 0.1430 - val_mean_squared_error: 0.0145\n",
      "Epoch 12/20\n",
      "2325/2325 [==============================] - 2s 731us/sample - loss: 0.0038 - acc: 0.2142 - mean_squared_error: 0.0036 - val_loss: 0.0145 - val_acc: 0.1470 - val_mean_squared_error: 0.0143\n",
      "Epoch 13/20\n",
      "2325/2325 [==============================] - 2s 672us/sample - loss: 0.0037 - acc: 0.2262 - mean_squared_error: 0.0035 - val_loss: 0.0143 - val_acc: 0.1640 - val_mean_squared_error: 0.0142\n",
      "Epoch 14/20\n",
      "2325/2325 [==============================] - 2s 700us/sample - loss: 0.0037 - acc: 0.2409 - mean_squared_error: 0.0034 - val_loss: 0.0142 - val_acc: 0.1720 - val_mean_squared_error: 0.0140\n",
      "Epoch 15/20\n",
      "2325/2325 [==============================] - 2s 727us/sample - loss: 0.0036 - acc: 0.2529 - mean_squared_error: 0.0033 - val_loss: 0.0140 - val_acc: 0.1750 - val_mean_squared_error: 0.0138\n",
      "Epoch 16/20\n",
      "2325/2325 [==============================] - 2s 681us/sample - loss: 0.0035 - acc: 0.2654 - mean_squared_error: 0.0033 - val_loss: 0.0139 - val_acc: 0.1820 - val_mean_squared_error: 0.0137\n",
      "Epoch 17/20\n",
      "2325/2325 [==============================] - 1s 553us/sample - loss: 0.0034 - acc: 0.2714 - mean_squared_error: 0.0032 - val_loss: 0.0137 - val_acc: 0.1880 - val_mean_squared_error: 0.0135\n",
      "Epoch 18/20\n",
      "2325/2325 [==============================] - 1s 620us/sample - loss: 0.0034 - acc: 0.2895 - mean_squared_error: 0.0031 - val_loss: 0.0136 - val_acc: 0.1900 - val_mean_squared_error: 0.0134\n",
      "Epoch 19/20\n",
      "2325/2325 [==============================] - 2s 721us/sample - loss: 0.0033 - acc: 0.2942 - mean_squared_error: 0.0031 - val_loss: 0.0135 - val_acc: 0.2050 - val_mean_squared_error: 0.0133\n",
      "Epoch 20/20\n",
      "2325/2325 [==============================] - 2s 678us/sample - loss: 0.0032 - acc: 0.3101 - mean_squared_error: 0.0030 - val_loss: 0.0134 - val_acc: 0.2010 - val_mean_squared_error: 0.0132\n"
     ]
    }
   ],
   "source": [
    "tf.set_random_seed(tf_random)\n",
    "model = LassoRegAutoEncoder(output_units=x_train_scaled.shape[1])\n",
    "# configurations of model\n",
    "model.compile(loss='mse', metrics=['accuracy','mse'], optimizer='adam')\n",
    "\n",
    "history = model.fit(\n",
    "    x_train_scaled,\n",
    "    x_train_scaled,\n",
    "    epochs=epochs_,\n",
    "    validation_data=(x_test_scaled, x_test_scaled)\n",
    ")"
   ]
  },
  {
   "cell_type": "code",
   "execution_count": 10,
   "metadata": {},
   "outputs": [
    {
     "data": {
      "image/png": "[encoded data removed]",
      "text/plain": [
       "<Figure size 432x288 with 1 Axes>"
      ]
     },
     "metadata": {
      "needs_background": "light"
     },
     "output_type": "display_data"
    }
   ],
   "source": [
    "plt.plot(history.history['loss'])\n",
    "plt.plot(history.history['val_loss'])\n",
    "plt.title('Lasso Regularised Autoencoder Training Progression')\n",
    "plt.xlabel('Epochs')\n",
    "plt.ylabel('MSE Loss')\n",
    "plt.legend(['loss', 'val_loss'])\n",
    "plt.show()"
   ]
  },
  {
   "cell_type": "code",
   "execution_count": 11,
   "metadata": {},
   "outputs": [
    {
     "name": "stdout",
     "output_type": "stream",
     "text": [
      "Threshold: 0.008343182754690025\n"
     ]
    },
    {
     "data": {
      "text/plain": [
       "0.93"
      ]
     },
     "execution_count": 11,
     "metadata": {},
     "output_type": "execute_result"
    }
   ],
   "source": [
    "threshold = find_threshold(model, x_train_scaled)\n",
    "print(f\"Threshold: {threshold}\")\n",
    "predictions = get_predictions(model, x_test_scaled, threshold)\n",
    "accuracy_score(predictions, y_test)"
   ]
  },
  {
   "cell_type": "code",
   "execution_count": 12,
   "metadata": {},
   "outputs": [
    {
     "data": {
      "text/plain": [
       "<AxesSubplot:title={'center':'Lasso Regularised Autoencoder Confusion Matrix'}>"
      ]
     },
     "execution_count": 12,
     "metadata": {},
     "output_type": "execute_result"
    },
    {
     "data": {
      "image/png": "[encoded data removed]",
      "text/plain": [
       "<Figure size 432x288 with 2 Axes>"
      ]
     },
     "metadata": {
      "needs_background": "light"
     },
     "output_type": "display_data"
    }
   ],
   "source": [
    "plt.title('Lasso Regularised Autoencoder Confusion Matrix')\n",
    "sns.heatmap(\n",
    "    cm(predictions , y_test),\n",
    "    annot=True\n",
    ")"
   ]
  },
  {
   "cell_type": "markdown",
   "metadata": {},
   "source": [
    "# Undercomplete Autoencoder"
   ]
  },
  {
   "cell_type": "code",
   "execution_count": 13,
   "metadata": {},
   "outputs": [
    {
     "name": "stdout",
     "output_type": "stream",
     "text": [
      "Train on 2325 samples, validate on 1000 samples\n",
      "Epoch 1/20\n",
      "2325/2325 [==============================] - 5s 2ms/sample - loss: 0.0136 - acc: 0.0744 - mean_squared_error: 0.0136 - val_loss: 0.0201 - val_acc: 0.1010 - val_mean_squared_error: 0.0201\n",
      "Epoch 2/20\n",
      "2325/2325 [==============================] - 4s 2ms/sample - loss: 0.0063 - acc: 0.2013 - mean_squared_error: 0.0063 - val_loss: 0.0179 - val_acc: 0.1390 - val_mean_squared_error: 0.0179\n",
      "Epoch 3/20\n",
      "2325/2325 [==============================] - 2s 762us/sample - loss: 0.0044 - acc: 0.2314 - mean_squared_error: 0.0044 - val_loss: 0.0159 - val_acc: 0.1510 - val_mean_squared_error: 0.0159\n",
      "Epoch 4/20\n",
      "2325/2325 [==============================] - 1s 588us/sample - loss: 0.0038 - acc: 0.2340 - mean_squared_error: 0.0038 - val_loss: 0.0147 - val_acc: 0.1570 - val_mean_squared_error: 0.0147\n",
      "Epoch 5/20\n",
      "2325/2325 [==============================] - 1s 598us/sample - loss: 0.0034 - acc: 0.2563 - mean_squared_error: 0.0034 - val_loss: 0.0136 - val_acc: 0.1760 - val_mean_squared_error: 0.0136\n",
      "Epoch 6/20\n",
      "2325/2325 [==============================] - 3s 2ms/sample - loss: 0.0031 - acc: 0.2830 - mean_squared_error: 0.0031 - val_loss: 0.0125 - val_acc: 0.1730 - val_mean_squared_error: 0.0125\n",
      "Epoch 7/20\n",
      "2325/2325 [==============================] - 2s 664us/sample - loss: 0.0029 - acc: 0.2925 - mean_squared_error: 0.0029 - val_loss: 0.0117 - val_acc: 0.2110 - val_mean_squared_error: 0.0117\n",
      "Epoch 8/20\n",
      "2325/2325 [==============================] - 3s 1ms/sample - loss: 0.0027 - acc: 0.3153 - mean_squared_error: 0.0027 - val_loss: 0.0113 - val_acc: 0.2370 - val_mean_squared_error: 0.0113\n",
      "Epoch 9/20\n",
      "2325/2325 [==============================] - 2s 800us/sample - loss: 0.0025 - acc: 0.3333 - mean_squared_error: 0.0025 - val_loss: 0.0107 - val_acc: 0.2650 - val_mean_squared_error: 0.0107\n",
      "Epoch 10/20\n",
      "2325/2325 [==============================] - 2s 654us/sample - loss: 0.0023 - acc: 0.3488 - mean_squared_error: 0.0023 - val_loss: 0.0104 - val_acc: 0.2510 - val_mean_squared_error: 0.0104\n",
      "Epoch 11/20\n",
      "2325/2325 [==============================] - 1s 533us/sample - loss: 0.0022 - acc: 0.3703 - mean_squared_error: 0.0022 - val_loss: 0.0101 - val_acc: 0.2570 - val_mean_squared_error: 0.0101\n",
      "Epoch 12/20\n",
      "2325/2325 [==============================] - 3s 1ms/sample - loss: 0.0021 - acc: 0.3867 - mean_squared_error: 0.0021 - val_loss: 0.0099 - val_acc: 0.2690 - val_mean_squared_error: 0.0099\n",
      "Epoch 13/20\n",
      "2325/2325 [==============================] - 2s 784us/sample - loss: 0.0020 - acc: 0.3996 - mean_squared_error: 0.0020 - val_loss: 0.0098 - val_acc: 0.2910 - val_mean_squared_error: 0.0098\n",
      "Epoch 14/20\n",
      "2325/2325 [==============================] - 3s 1ms/sample - loss: 0.0019 - acc: 0.4163 - mean_squared_error: 0.0019 - val_loss: 0.0098 - val_acc: 0.2810 - val_mean_squared_error: 0.0098\n",
      "Epoch 15/20\n",
      "2325/2325 [==============================] - 2s 837us/sample - loss: 0.0018 - acc: 0.4391 - mean_squared_error: 0.0018 - val_loss: 0.0098 - val_acc: 0.2850 - val_mean_squared_error: 0.0098\n",
      "Epoch 16/20\n",
      "2325/2325 [==============================] - 2s 792us/sample - loss: 0.0017 - acc: 0.4327 - mean_squared_error: 0.0017 - val_loss: 0.0097 - val_acc: 0.2930 - val_mean_squared_error: 0.0097\n",
      "Epoch 17/20\n",
      "2325/2325 [==============================] - 3s 1ms/sample - loss: 0.0017 - acc: 0.4456 - mean_squared_error: 0.0017 - val_loss: 0.0097 - val_acc: 0.2800 - val_mean_squared_error: 0.0097\n",
      "Epoch 18/20\n",
      "2325/2325 [==============================] - 2s 720us/sample - loss: 0.0016 - acc: 0.4447 - mean_squared_error: 0.0016 - val_loss: 0.0093 - val_acc: 0.2950 - val_mean_squared_error: 0.0093\n",
      "Epoch 19/20\n",
      "2325/2325 [==============================] - 1s 631us/sample - loss: 0.0016 - acc: 0.4495 - mean_squared_error: 0.0016 - val_loss: 0.0093 - val_acc: 0.2970 - val_mean_squared_error: 0.0093\n",
      "Epoch 20/20\n",
      "2325/2325 [==============================] - 3s 1ms/sample - loss: 0.0016 - acc: 0.4525 - mean_squared_error: 0.0016 - val_loss: 0.0092 - val_acc: 0.2900 - val_mean_squared_error: 0.0092\n"
     ]
    }
   ],
   "source": [
    "tf.set_random_seed(tf_random)\n",
    "model = UnderCompleteAutoEncoder(output_units=x_train_scaled.shape[1])\n",
    "# configurations of model\n",
    "model.compile(loss='mse', metrics=['accuracy','mse'], optimizer='adam')\n",
    "\n",
    "history = model.fit(\n",
    "    x_train_scaled,\n",
    "    x_train_scaled,\n",
    "    epochs=epochs_,\n",
    "    validation_data=(x_test_scaled, x_test_scaled)\n",
    ")"
   ]
  },
  {
   "cell_type": "code",
   "execution_count": 14,
   "metadata": {},
   "outputs": [
    {
     "data": {
      "image/png": "[encoded data removed]",
      "text/plain": [
       "<Figure size 432x288 with 1 Axes>"
      ]
     },
     "metadata": {
      "needs_background": "light"
     },
     "output_type": "display_data"
    }
   ],
   "source": [
    "plt.plot(history.history['loss'])\n",
    "plt.plot(history.history['val_loss'])\n",
    "plt.title('Undercomplete Autoencoder Training Progression')\n",
    "plt.xlabel('Epochs')\n",
    "plt.ylabel('MSE Loss')\n",
    "plt.legend(['loss', 'val_loss'])\n",
    "plt.show()"
   ]
  },
  {
   "cell_type": "code",
   "execution_count": 15,
   "metadata": {},
   "outputs": [
    {
     "name": "stdout",
     "output_type": "stream",
     "text": [
      "Threshold: 0.004344043138412186\n"
     ]
    },
    {
     "data": {
      "text/plain": [
       "0.976"
      ]
     },
     "execution_count": 15,
     "metadata": {},
     "output_type": "execute_result"
    }
   ],
   "source": [
    "threshold = find_threshold(model, x_train_scaled)\n",
    "print(f\"Threshold: {threshold}\")\n",
    "predictions = get_predictions(model, x_test_scaled, threshold)\n",
    "accuracy_score(predictions, y_test)"
   ]
  },
  {
   "cell_type": "code",
   "execution_count": 16,
   "metadata": {},
   "outputs": [
    {
     "data": {
      "text/plain": [
       "<AxesSubplot:title={'center':'Undercomplete Autoencoder Confusion Matrix'}>"
      ]
     },
     "execution_count": 16,
     "metadata": {},
     "output_type": "execute_result"
    },
    {
     "data": {
      "image/png": "[encoded data removed]",
      "text/plain": [
       "<Figure size 432x288 with 2 Axes>"
      ]
     },
     "metadata": {
      "needs_background": "light"
     },
     "output_type": "display_data"
    }
   ],
   "source": [
    "plt.title('Undercomplete Autoencoder Confusion Matrix')\n",
    "sns.heatmap(\n",
    "    cm(predictions , y_test),\n",
    "    annot=True\n",
    ")"
   ]
  },
  {
   "cell_type": "markdown",
   "metadata": {},
   "source": [
    "# Dropout"
   ]
  },
  {
   "cell_type": "code",
   "execution_count": 17,
   "metadata": {},
   "outputs": [
    {
     "name": "stdout",
     "output_type": "stream",
     "text": [
      "Train on 2325 samples, validate on 1000 samples\n",
      "Epoch 1/20\n",
      "2325/2325 [==============================] - 9s 4ms/sample - loss: 0.0152 - acc: 0.0314 - mean_squared_error: 0.0152 - val_loss: 0.0224 - val_acc: 0.1000 - val_mean_squared_error: 0.0224\n",
      "Epoch 2/20\n",
      "2325/2325 [==============================] - 2s 713us/sample - loss: 0.0103 - acc: 0.0671 - mean_squared_error: 0.0103 - val_loss: 0.0215 - val_acc: 0.0980 - val_mean_squared_error: 0.0215\n",
      "Epoch 3/20\n",
      "2325/2325 [==============================] - 2s 744us/sample - loss: 0.0093 - acc: 0.1067 - mean_squared_error: 0.0093 - val_loss: 0.0206 - val_acc: 0.1210 - val_mean_squared_error: 0.0206\n",
      "Epoch 4/20\n",
      "2325/2325 [==============================] - 3s 2ms/sample - loss: 0.0081 - acc: 0.1475 - mean_squared_error: 0.0081 - val_loss: 0.0196 - val_acc: 0.1470 - val_mean_squared_error: 0.0196\n",
      "Epoch 5/20\n",
      "2325/2325 [==============================] - 2s 837us/sample - loss: 0.0074 - acc: 0.1824 - mean_squared_error: 0.0074 - val_loss: 0.0193 - val_acc: 0.1590 - val_mean_squared_error: 0.0193\n",
      "Epoch 6/20\n",
      "2325/2325 [==============================] - 2s 742us/sample - loss: 0.0068 - acc: 0.1931 - mean_squared_error: 0.0068 - val_loss: 0.0192 - val_acc: 0.1530 - val_mean_squared_error: 0.0192\n",
      "Epoch 7/20\n",
      "2325/2325 [==============================] - 1s 542us/sample - loss: 0.0065 - acc: 0.2000 - mean_squared_error: 0.0065 - val_loss: 0.0191 - val_acc: 0.1550 - val_mean_squared_error: 0.0191\n",
      "Epoch 8/20\n",
      "2325/2325 [==============================] - 3s 1ms/sample - loss: 0.0062 - acc: 0.2241 - mean_squared_error: 0.0062 - val_loss: 0.0196 - val_acc: 0.1570 - val_mean_squared_error: 0.0196\n",
      "Epoch 9/20\n",
      "2325/2325 [==============================] - 2s 964us/sample - loss: 0.0060 - acc: 0.2176 - mean_squared_error: 0.0060 - val_loss: 0.0191 - val_acc: 0.1720 - val_mean_squared_error: 0.0191\n",
      "Epoch 10/20\n",
      "2325/2325 [==============================] - 3s 1ms/sample - loss: 0.0059 - acc: 0.2366 - mean_squared_error: 0.0059 - val_loss: 0.0189 - val_acc: 0.1620 - val_mean_squared_error: 0.0189\n",
      "Epoch 11/20\n",
      "2325/2325 [==============================] - 2s 854us/sample - loss: 0.0056 - acc: 0.2404 - mean_squared_error: 0.0056 - val_loss: 0.0183 - val_acc: 0.1740 - val_mean_squared_error: 0.0183\n",
      "Epoch 12/20\n",
      "2325/2325 [==============================] - 3s 1ms/sample - loss: 0.0053 - acc: 0.2508 - mean_squared_error: 0.0053 - val_loss: 0.0189 - val_acc: 0.1840 - val_mean_squared_error: 0.0189\n",
      "Epoch 13/20\n",
      "2325/2325 [==============================] - 2s 832us/sample - loss: 0.0053 - acc: 0.2594 - mean_squared_error: 0.0053 - val_loss: 0.0175 - val_acc: 0.1840 - val_mean_squared_error: 0.0175\n",
      "Epoch 14/20\n",
      "2325/2325 [==============================] - 3s 1ms/sample - loss: 0.0051 - acc: 0.2585 - mean_squared_error: 0.0051 - val_loss: 0.0174 - val_acc: 0.1860 - val_mean_squared_error: 0.0174\n",
      "Epoch 15/20\n",
      "2325/2325 [==============================] - 2s 818us/sample - loss: 0.0050 - acc: 0.2503 - mean_squared_error: 0.0050 - val_loss: 0.0168 - val_acc: 0.1820 - val_mean_squared_error: 0.0168\n",
      "Epoch 16/20\n",
      "2325/2325 [==============================] - 3s 1ms/sample - loss: 0.0049 - acc: 0.2594 - mean_squared_error: 0.0049 - val_loss: 0.0172 - val_acc: 0.1860 - val_mean_squared_error: 0.0172\n",
      "Epoch 17/20\n",
      "2325/2325 [==============================] - 2s 814us/sample - loss: 0.0048 - acc: 0.2615 - mean_squared_error: 0.0048 - val_loss: 0.0174 - val_acc: 0.1990 - val_mean_squared_error: 0.0174\n",
      "Epoch 18/20\n",
      "2325/2325 [==============================] - 3s 1ms/sample - loss: 0.0048 - acc: 0.2671 - mean_squared_error: 0.0048 - val_loss: 0.0169 - val_acc: 0.1790 - val_mean_squared_error: 0.0169\n",
      "Epoch 19/20\n",
      "2325/2325 [==============================] - 2s 740us/sample - loss: 0.0047 - acc: 0.2546 - mean_squared_error: 0.0047 - val_loss: 0.0166 - val_acc: 0.1720 - val_mean_squared_error: 0.0166\n",
      "Epoch 20/20\n",
      "2325/2325 [==============================] - 2s 757us/sample - loss: 0.0047 - acc: 0.2551 - mean_squared_error: 0.0047 - val_loss: 0.0167 - val_acc: 0.1700 - val_mean_squared_error: 0.0167\n"
     ]
    }
   ],
   "source": [
    "tf.set_random_seed(tf_random)\n",
    "model = DropoutAutoEncoder(output_units=x_train_scaled.shape[1])\n",
    "# configurations of model\n",
    "model.compile(loss='mse', metrics=['accuracy','mse'], optimizer='adam')\n",
    "\n",
    "history = model.fit(\n",
    "    x_train_scaled,\n",
    "    x_train_scaled,\n",
    "    epochs=epochs_,\n",
    "    validation_data=(x_test_scaled, x_test_scaled)\n",
    ")"
   ]
  },
  {
   "cell_type": "code",
   "execution_count": 18,
   "metadata": {},
   "outputs": [
    {
     "data": {
      "image/png": "[encoded data removed]",
      "text/plain": [
       "<Figure size 432x288 with 1 Axes>"
      ]
     },
     "metadata": {
      "needs_background": "light"
     },
     "output_type": "display_data"
    }
   ],
   "source": [
    "plt.plot(history.history['loss'])\n",
    "plt.plot(history.history['val_loss'])\n",
    "plt.title('Dropour Autoencoder Training Progression')\n",
    "plt.xlabel('Epochs')\n",
    "plt.ylabel('MSE Loss')\n",
    "plt.legend(['loss', 'val_loss'])\n",
    "plt.show()"
   ]
  },
  {
   "cell_type": "code",
   "execution_count": 19,
   "metadata": {},
   "outputs": [
    {
     "name": "stdout",
     "output_type": "stream",
     "text": [
      "Threshold: 0.009007536759312686\n"
     ]
    },
    {
     "data": {
      "text/plain": [
       "0.971"
      ]
     },
     "execution_count": 19,
     "metadata": {},
     "output_type": "execute_result"
    }
   ],
   "source": [
    "threshold = find_threshold(model, x_train_scaled)\n",
    "print(f\"Threshold: {threshold}\")\n",
    "predictions = get_predictions(model, x_test_scaled, threshold)\n",
    "accuracy_score(predictions, y_test)"
   ]
  },
  {
   "cell_type": "code",
   "execution_count": 20,
   "metadata": {},
   "outputs": [
    {
     "data": {
      "text/plain": [
       "<AxesSubplot:title={'center':'Dropout Autoencoder Training Progression'}>"
      ]
     },
     "execution_count": 20,
     "metadata": {},
     "output_type": "execute_result"
    },
    {
     "data": {
      "image/png": "[encoded data removed]",
      "text/plain": [
       "<Figure size 432x288 with 2 Axes>"
      ]
     },
     "metadata": {
      "needs_background": "light"
     },
     "output_type": "display_data"
    }
   ],
   "source": [
    "plt.title('Dropout Autoencoder Training Progression')\n",
    "sns.heatmap(\n",
    "    cm(predictions , y_test),\n",
    "    annot=True\n",
    ")"
   ]
  },
  {
   "cell_type": "code",
   "execution_count": null,
   "metadata": {},
   "outputs": [],
   "source": []
  },
  {
   "cell_type": "code",
   "execution_count": null,
   "metadata": {},
   "outputs": [],
   "source": []
  }
 ],
 "metadata": {
  "interpreter": {
   "hash": "22f0d2165c1e17032414b5fde5a52e3312474eb29891a268f0783d58f4797ec8"
  },
  "kernelspec": {
   "display_name": "Python 3.6.13 64-bit ('tfamd': conda)",
   "language": "python",
   "name": "python3"
  },
  "language_info": {
   "codemirror_mode": {
    "name": "ipython",
    "version": 3
   },
   "file_extension": ".py",
   "mimetype": "text/x-python",
   "name": "python",
   "nbconvert_exporter": "python",
   "pygments_lexer": "ipython3",
   "version": "3.6.13"
  },
  "orig_nbformat": 4
 },
 "nbformat": 4,
 "nbformat_minor": 2
}
